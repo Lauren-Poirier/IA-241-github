{
 "cells": [
  {
   "cell_type": "markdown",
   "id": "767a9f49",
   "metadata": {},
   "source": [
    "# Analyzing COVID-19 Data in Australia"
   ]
  },
  {
   "cell_type": "markdown",
   "id": "1a989d26",
   "metadata": {},
   "source": [
    "## Background"
   ]
  },
  {
   "cell_type": "markdown",
   "id": "32b1409f",
   "metadata": {},
   "source": [
    "### In 2019 we entered the COVID-19 pandemic. The whole world has been effected by the virus physically and emotionally. This notebook will analyze COVID-19 data from Australia."
   ]
  },
  {
   "cell_type": "markdown",
   "id": "ddf3a22d",
   "metadata": {},
   "source": [
    "## Author information"
   ]
  },
  {
   "cell_type": "markdown",
   "id": "7fba3a98",
   "metadata": {},
   "source": [
    "### Lauren Poirier, JMU Intelligence Analyst"
   ]
  },
  {
   "cell_type": "markdown",
   "id": "2174db87",
   "metadata": {},
   "source": [
    "## Data Source"
   ]
  },
  {
   "cell_type": "markdown",
   "id": "4ff79413",
   "metadata": {},
   "source": [
    "data is downloaded from [European Centre for Disease Prevention and Control] (https://www.ecdc.europa.eu/en/publications-data/download-todays-data-geographic-distribution-covid-19-cases-worldwide)"
   ]
  },
  {
   "cell_type": "code",
   "execution_count": 1,
   "id": "99f30a36",
   "metadata": {},
   "outputs": [],
   "source": [
    "%matplotlib inline\n",
    "import pandas"
   ]
  },
  {
   "cell_type": "markdown",
   "id": "483ff91b",
   "metadata": {},
   "source": [
    "## Data"
   ]
  },
  {
   "cell_type": "markdown",
   "id": "b568d46d",
   "metadata": {},
   "source": [
    "### overview of COVID-19 data from S3"
   ]
  },
  {
   "cell_type": "code",
   "execution_count": 3,
   "id": "2d84845b",
   "metadata": {},
   "outputs": [
    {
     "data": {
      "text/html": [
       "<div>\n",
       "<style scoped>\n",
       "    .dataframe tbody tr th:only-of-type {\n",
       "        vertical-align: middle;\n",
       "    }\n",
       "\n",
       "    .dataframe tbody tr th {\n",
       "        vertical-align: top;\n",
       "    }\n",
       "\n",
       "    .dataframe thead th {\n",
       "        text-align: right;\n",
       "    }\n",
       "</style>\n",
       "<table border=\"1\" class=\"dataframe\">\n",
       "  <thead>\n",
       "    <tr style=\"text-align: right;\">\n",
       "      <th></th>\n",
       "      <th>dateRep</th>\n",
       "      <th>day</th>\n",
       "      <th>month</th>\n",
       "      <th>year</th>\n",
       "      <th>cases</th>\n",
       "      <th>deaths</th>\n",
       "      <th>countriesAndTerritories</th>\n",
       "      <th>geoId</th>\n",
       "      <th>countryterritoryCode</th>\n",
       "      <th>popData2019</th>\n",
       "      <th>continentExp</th>\n",
       "      <th>Cumulative_number_for_14_days_of_COVID-19_cases_per_100000</th>\n",
       "    </tr>\n",
       "  </thead>\n",
       "  <tbody>\n",
       "    <tr>\n",
       "      <th>2934</th>\n",
       "      <td>14/12/2020</td>\n",
       "      <td>14</td>\n",
       "      <td>12</td>\n",
       "      <td>2020</td>\n",
       "      <td>6</td>\n",
       "      <td>0</td>\n",
       "      <td>Australia</td>\n",
       "      <td>AU</td>\n",
       "      <td>AUS</td>\n",
       "      <td>25203200.0</td>\n",
       "      <td>Oceania</td>\n",
       "      <td>0.547550</td>\n",
       "    </tr>\n",
       "    <tr>\n",
       "      <th>2935</th>\n",
       "      <td>13/12/2020</td>\n",
       "      <td>13</td>\n",
       "      <td>12</td>\n",
       "      <td>2020</td>\n",
       "      <td>13</td>\n",
       "      <td>0</td>\n",
       "      <td>Australia</td>\n",
       "      <td>AU</td>\n",
       "      <td>AUS</td>\n",
       "      <td>25203200.0</td>\n",
       "      <td>Oceania</td>\n",
       "      <td>0.555485</td>\n",
       "    </tr>\n",
       "    <tr>\n",
       "      <th>2936</th>\n",
       "      <td>2020-12-12 00:00:00</td>\n",
       "      <td>12</td>\n",
       "      <td>12</td>\n",
       "      <td>2020</td>\n",
       "      <td>12</td>\n",
       "      <td>0</td>\n",
       "      <td>Australia</td>\n",
       "      <td>AU</td>\n",
       "      <td>AUS</td>\n",
       "      <td>25203200.0</td>\n",
       "      <td>Oceania</td>\n",
       "      <td>0.547550</td>\n",
       "    </tr>\n",
       "    <tr>\n",
       "      <th>2937</th>\n",
       "      <td>2020-11-12 00:00:00</td>\n",
       "      <td>11</td>\n",
       "      <td>12</td>\n",
       "      <td>2020</td>\n",
       "      <td>7</td>\n",
       "      <td>0</td>\n",
       "      <td>Australia</td>\n",
       "      <td>AU</td>\n",
       "      <td>AUS</td>\n",
       "      <td>25203200.0</td>\n",
       "      <td>Oceania</td>\n",
       "      <td>0.527711</td>\n",
       "    </tr>\n",
       "    <tr>\n",
       "      <th>2938</th>\n",
       "      <td>2020-10-12 00:00:00</td>\n",
       "      <td>10</td>\n",
       "      <td>12</td>\n",
       "      <td>2020</td>\n",
       "      <td>6</td>\n",
       "      <td>0</td>\n",
       "      <td>Australia</td>\n",
       "      <td>AU</td>\n",
       "      <td>AUS</td>\n",
       "      <td>25203200.0</td>\n",
       "      <td>Oceania</td>\n",
       "      <td>0.551517</td>\n",
       "    </tr>\n",
       "    <tr>\n",
       "      <th>2939</th>\n",
       "      <td>2020-09-12 00:00:00</td>\n",
       "      <td>9</td>\n",
       "      <td>12</td>\n",
       "      <td>2020</td>\n",
       "      <td>15</td>\n",
       "      <td>0</td>\n",
       "      <td>Australia</td>\n",
       "      <td>AU</td>\n",
       "      <td>AUS</td>\n",
       "      <td>25203200.0</td>\n",
       "      <td>Oceania</td>\n",
       "      <td>0.551517</td>\n",
       "    </tr>\n",
       "    <tr>\n",
       "      <th>2940</th>\n",
       "      <td>2020-08-12 00:00:00</td>\n",
       "      <td>8</td>\n",
       "      <td>12</td>\n",
       "      <td>2020</td>\n",
       "      <td>7</td>\n",
       "      <td>0</td>\n",
       "      <td>Australia</td>\n",
       "      <td>AU</td>\n",
       "      <td>AUS</td>\n",
       "      <td>25203200.0</td>\n",
       "      <td>Oceania</td>\n",
       "      <td>0.543582</td>\n",
       "    </tr>\n",
       "    <tr>\n",
       "      <th>2941</th>\n",
       "      <td>2020-07-12 00:00:00</td>\n",
       "      <td>7</td>\n",
       "      <td>12</td>\n",
       "      <td>2020</td>\n",
       "      <td>9</td>\n",
       "      <td>0</td>\n",
       "      <td>Australia</td>\n",
       "      <td>AU</td>\n",
       "      <td>AUS</td>\n",
       "      <td>25203200.0</td>\n",
       "      <td>Oceania</td>\n",
       "      <td>0.571356</td>\n",
       "    </tr>\n",
       "    <tr>\n",
       "      <th>2942</th>\n",
       "      <td>2020-06-12 00:00:00</td>\n",
       "      <td>6</td>\n",
       "      <td>12</td>\n",
       "      <td>2020</td>\n",
       "      <td>7</td>\n",
       "      <td>0</td>\n",
       "      <td>Australia</td>\n",
       "      <td>AU</td>\n",
       "      <td>AUS</td>\n",
       "      <td>25203200.0</td>\n",
       "      <td>Oceania</td>\n",
       "      <td>0.591195</td>\n",
       "    </tr>\n",
       "    <tr>\n",
       "      <th>2943</th>\n",
       "      <td>2020-05-12 00:00:00</td>\n",
       "      <td>5</td>\n",
       "      <td>12</td>\n",
       "      <td>2020</td>\n",
       "      <td>10</td>\n",
       "      <td>0</td>\n",
       "      <td>Australia</td>\n",
       "      <td>AU</td>\n",
       "      <td>AUS</td>\n",
       "      <td>25203200.0</td>\n",
       "      <td>Oceania</td>\n",
       "      <td>0.634840</td>\n",
       "    </tr>\n",
       "  </tbody>\n",
       "</table>\n",
       "</div>"
      ],
      "text/plain": [
       "                  dateRep  day  month  year  cases  deaths  \\\n",
       "2934           14/12/2020   14     12  2020      6       0   \n",
       "2935           13/12/2020   13     12  2020     13       0   \n",
       "2936  2020-12-12 00:00:00   12     12  2020     12       0   \n",
       "2937  2020-11-12 00:00:00   11     12  2020      7       0   \n",
       "2938  2020-10-12 00:00:00   10     12  2020      6       0   \n",
       "2939  2020-09-12 00:00:00    9     12  2020     15       0   \n",
       "2940  2020-08-12 00:00:00    8     12  2020      7       0   \n",
       "2941  2020-07-12 00:00:00    7     12  2020      9       0   \n",
       "2942  2020-06-12 00:00:00    6     12  2020      7       0   \n",
       "2943  2020-05-12 00:00:00    5     12  2020     10       0   \n",
       "\n",
       "     countriesAndTerritories geoId countryterritoryCode  popData2019  \\\n",
       "2934               Australia    AU                  AUS   25203200.0   \n",
       "2935               Australia    AU                  AUS   25203200.0   \n",
       "2936               Australia    AU                  AUS   25203200.0   \n",
       "2937               Australia    AU                  AUS   25203200.0   \n",
       "2938               Australia    AU                  AUS   25203200.0   \n",
       "2939               Australia    AU                  AUS   25203200.0   \n",
       "2940               Australia    AU                  AUS   25203200.0   \n",
       "2941               Australia    AU                  AUS   25203200.0   \n",
       "2942               Australia    AU                  AUS   25203200.0   \n",
       "2943               Australia    AU                  AUS   25203200.0   \n",
       "\n",
       "     continentExp  Cumulative_number_for_14_days_of_COVID-19_cases_per_100000  \n",
       "2934      Oceania                                           0.547550           \n",
       "2935      Oceania                                           0.555485           \n",
       "2936      Oceania                                           0.547550           \n",
       "2937      Oceania                                           0.527711           \n",
       "2938      Oceania                                           0.551517           \n",
       "2939      Oceania                                           0.551517           \n",
       "2940      Oceania                                           0.543582           \n",
       "2941      Oceania                                           0.571356           \n",
       "2942      Oceania                                           0.591195           \n",
       "2943      Oceania                                           0.634840           "
      ]
     },
     "execution_count": 3,
     "metadata": {},
     "output_type": "execute_result"
    }
   ],
   "source": [
    "df = pandas.read_excel ('s3://poirielgp/covid_data.xls')\n",
    "aus_data = df.loc[df['countriesAndTerritories']=='Australia']\n",
    "aus_data[:10] #top 10 rows"
   ]
  },
  {
   "cell_type": "markdown",
   "id": "bf34be02",
   "metadata": {},
   "source": [
    "## Three Questions Answered:"
   ]
  },
  {
   "cell_type": "markdown",
   "id": "fe80c122",
   "metadata": {},
   "source": [
    "### 1. What month recorded the most deaths?"
   ]
  },
  {
   "cell_type": "markdown",
   "id": "5ac7cdd6",
   "metadata": {},
   "source": [
    "### 2. How does the number of cases relate to the overall deaths?"
   ]
  },
  {
   "cell_type": "markdown",
   "id": "cbc330ad",
   "metadata": {},
   "source": [
    "### 3. Which month accounted for the most cases?"
   ]
  },
  {
   "cell_type": "markdown",
   "id": "7583dfe7",
   "metadata": {},
   "source": [
    "# Question 1"
   ]
  },
  {
   "cell_type": "code",
   "execution_count": 4,
   "id": "9d846f29",
   "metadata": {},
   "outputs": [],
   "source": [
    "sum_deaths_per_month = aus_data.groupby('month').sum()['deaths']"
   ]
  },
  {
   "cell_type": "code",
   "execution_count": 5,
   "id": "f98d8ffb",
   "metadata": {},
   "outputs": [
    {
     "data": {
      "text/plain": [
       "<AxesSubplot:xlabel='month'>"
      ]
     },
     "execution_count": 5,
     "metadata": {},
     "output_type": "execute_result"
    },
    {
     "data": {
      "image/png": "[encoded data removed]",
      "text/plain": [
       "<Figure size 432x288 with 1 Axes>"
      ]
     },
     "metadata": {
      "needs_background": "light"
     },
     "output_type": "display_data"
    }
   ],
   "source": [
    "sum_deaths_per_month.plot()"
   ]
  },
  {
   "cell_type": "markdown",
   "id": "c0c77b43",
   "metadata": {},
   "source": [
    "### This data reveals that Australia faced the most deaths in the month of August"
   ]
  },
  {
   "cell_type": "markdown",
   "id": "30f95322",
   "metadata": {},
   "source": [
    "# Question 2"
   ]
  },
  {
   "cell_type": "code",
   "execution_count": 6,
   "id": "873027e1",
   "metadata": {},
   "outputs": [
    {
     "data": {
      "text/plain": [
       "<AxesSubplot:xlabel='cases', ylabel='deaths'>"
      ]
     },
     "execution_count": 6,
     "metadata": {},
     "output_type": "execute_result"
    },
    {
     "data": {
      "image/png": "[encoded data removed]",
      "text/plain": [
       "<Figure size 432x288 with 1 Axes>"
      ]
     },
     "metadata": {
      "needs_background": "light"
     },
     "output_type": "display_data"
    }
   ],
   "source": [
    "aus_data.plot.scatter(x='cases', y='deaths')"
   ]
  },
  {
   "cell_type": "markdown",
   "id": "f107f561",
   "metadata": {},
   "source": [
    "### This data reveals that as the amount of cases goes up, there is a slight increase in the number of deaths, however there are some outliers."
   ]
  },
  {
   "cell_type": "markdown",
   "id": "1a66c431",
   "metadata": {},
   "source": [
    "# Question 3"
   ]
  },
  {
   "cell_type": "code",
   "execution_count": 7,
   "id": "708405fd",
   "metadata": {},
   "outputs": [],
   "source": [
    "sum_cases_per_month = aus_data.groupby('month').sum()['cases']"
   ]
  },
  {
   "cell_type": "code",
   "execution_count": 8,
   "id": "68f85738",
   "metadata": {},
   "outputs": [
    {
     "data": {
      "text/plain": [
       "<AxesSubplot:xlabel='month'>"
      ]
     },
     "execution_count": 8,
     "metadata": {},
     "output_type": "execute_result"
    },
    {
     "data": {
      "image/png": "[encoded data removed]",
      "text/plain": [
       "<Figure size 432x288 with 1 Axes>"
      ]
     },
     "metadata": {
      "needs_background": "light"
     },
     "output_type": "display_data"
    }
   ],
   "source": [
    "sum_cases_per_month.plot()"
   ]
  },
  {
   "cell_type": "markdown",
   "id": "6f1cedd7",
   "metadata": {},
   "source": [
    "### This graph reveals that there was a small spike of cases in March and a larger spike in August."
   ]
  },
  {
   "cell_type": "markdown",
   "id": "627fa330",
   "metadata": {},
   "source": [
    "# Explanation of calculations:"
   ]
  },
  {
   "cell_type": "markdown",
   "id": "dcc42ec4",
   "metadata": {},
   "source": [
    "### Q1: aus_data.groupby('month').sum()['deaths'] added all of the deaths per month which showed which month had the most deaths."
   ]
  },
  {
   "cell_type": "markdown",
   "id": "e3f37c7a",
   "metadata": {},
   "source": [
    "### Q2: aus_data.plot.scatter(x='cases', y='deaths') put the x and y variables on the plot which revealed distributed data that showed a slight trend in cases and deaths."
   ]
  },
  {
   "cell_type": "markdown",
   "id": "d498ab0c",
   "metadata": {},
   "source": [
    "### Q3: aus_data.groupby('month').sum()['cases'] allowed me to add all of the cases per month whic revealed what month had the most cases."
   ]
  },
  {
   "cell_type": "markdown",
   "id": "e7c3f50e",
   "metadata": {},
   "source": [
    "# Conclusion"
   ]
  },
  {
   "cell_type": "markdown",
   "id": "5a8c8f2a",
   "metadata": {},
   "source": [
    "## In conclusion, COVID-19 impacted the whole world. This data included COVID-19 cases and deaths from Australia in 2020. Next time I would like to see the data including all years (2019,2020,2021,2022) data that we haveon COVID-19. "
   ]
  },
  {
   "cell_type": "code",
   "execution_count": null,
   "id": "df9adcbe",
   "metadata": {},
   "outputs": [],
   "source": []
  }
 ],
 "metadata": {
  "kernelspec": {
   "display_name": "conda_python3",
   "language": "python",
   "name": "conda_python3"
  },
  "language_info": {
   "codemirror_mode": {
    "name": "ipython",
    "version": 3
   },
   "file_extension": ".py",
   "mimetype": "text/x-python",
   "name": "python",
   "nbconvert_exporter": "python",
   "pygments_lexer": "ipython3",
   "version": "3.6.13"
  }
 },
 "nbformat": 4,
 "nbformat_minor": 5
}
